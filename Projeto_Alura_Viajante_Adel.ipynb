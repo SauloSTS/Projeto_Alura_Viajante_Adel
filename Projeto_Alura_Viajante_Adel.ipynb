{
  "nbformat": 4,
  "nbformat_minor": 0,
  "metadata": {
    "colab": {
      "provenance": [],
      "authorship_tag": "ABX9TyOYEKb52VWYQWDqQbm/0Q0P",
      "include_colab_link": true
    },
    "kernelspec": {
      "name": "python3",
      "display_name": "Python 3"
    },
    "language_info": {
      "name": "python"
    }
  },
  "cells": [
    {
      "cell_type": "markdown",
      "metadata": {
        "id": "view-in-github",
        "colab_type": "text"
      },
      "source": [
        "<a href=\"https://colab.research.google.com/github/SauloSTS/Projeto_Alura_Viajante_Adel/blob/main/Projeto_Alura_Viajante_Adel.ipynb\" target=\"_parent\"><img src=\"https://colab.research.google.com/assets/colab-badge.svg\" alt=\"Open In Colab\"/></a>"
      ]
    },
    {
      "cell_type": "code",
      "source": [
        "pip install -q -U google-generativeai"
      ],
      "metadata": {
        "id": "Er-Hz31zdCnL"
      },
      "execution_count": 12,
      "outputs": []
    },
    {
      "cell_type": "code",
      "source": [
        "import pathlib\n",
        "import textwrap\n",
        "\n",
        "import google.generativeai as genai\n",
        "from google.colab import userdate\n",
        "\n",
        "from IPython.display import display\n",
        "from IPython.display import Markdown\n",
        "\n",
        "\n",
        "def to_markdown(text):\n",
        "  text = text.replace('•', '  *')\n",
        "  return Markdown(textwrap.indent(text, '> ', predicate=lambda _: True))"
      ],
      "metadata": {
        "id": "dslGejgBdIN8"
      },
      "execution_count": 13,
      "outputs": []
    },
    {
      "cell_type": "code",
      "source": [
        "GOOGLE_API_KEY= userdate('SECRET_KEY')\n",
        "\n",
        "genai.configure(api_key=GOOGLE_API_KEY)"
      ],
      "metadata": {
        "id": "Bm6DT3VIdUSs"
      },
      "execution_count": 14,
      "outputs": []
    },
    {
      "cell_type": "code",
      "source": [
        "model = genai.GenerativeModel('gemini-pro')"
      ],
      "metadata": {
        "id": "WDCyExp-dihT"
      },
      "execution_count": 15,
      "outputs": []
    },
    {
      "cell_type": "code",
      "source": [
        "chat = model.start_chat(history=[])\n",
        "chat\n",
        "\n",
        "prompt = input('Qual vai ser a cidade do projeto de publicidade de hoje? ' )\n",
        "\n",
        "while prompt != \"fim\":\n",
        "  response = chat.send_message(\"propagada turistica em\" + prompt + \"rotas turisticas\" + \"valor do pacote da viajem\")\n",
        "  print('\\n\\n', \"Projeto:\", response.text, '\\n\\n')\n",
        "  prompt = input('Esperando prompt: ')\n",
        "\n",
        "to_markdown(response.text)"
      ],
      "metadata": {
        "colab": {
          "base_uri": "https://localhost:8080/",
          "height": 1000
        },
        "id": "v5keeCYxdtM6",
        "outputId": "66662bdd-0559-46a7-df6e-fc075161ac4e"
      },
      "execution_count": 22,
      "outputs": [
        {
          "name": "stdout",
          "output_type": "stream",
          "text": [
            "Qual vai ser a cidade do projeto de publicidade de hoje? Parnaíba\n",
            "\n",
            "\n",
            " Projeto: **Propaganda Turística para Parnaíba**\n",
            "\n",
            "**Descubra a Pérola do Delta: Parnaíba**\n",
            "\n",
            "Prepare-se para uma jornada inesquecível em Parnaíba, uma cidade encantadora situada na foz do Rio Parnaíba. Explore as belezas naturais, a rica cultura e a hospitalidade calorosa que esta pérola do nordeste tem a oferecer.\n",
            "\n",
            "* **Praias paradisíacas:** Mergulhe nas águas cristalinas das praias de Atalaia e Ilha Grande, onde as areias brancas e as dunas imponentes criam um cenário de tirar o fôlego.\n",
            "* **Delta das Américas:** Navegue pelo labirinto do Delta das Américas, um ecossistema único de dunas, mangues e canais que abriga uma diversidade de vida selvagem.\n",
            "* **Centro histórico:** Admire a arquitetura colonial no centro histórico de Parnaíba, com seus edifícios coloridos e ruas de paralelepípedos que revelam a história fascinante da cidade.\n",
            "* **Cultura vibrante:** Participe de festivais folclóricos, visite museus e galerias de arte e delicie-se com a gastronomia local em restaurantes charmosos.\n",
            "\n",
            "**Pacotes de Viagem**\n",
            "\n",
            "Descubra Parnaíba com nossos pacotes de viagem exclusivos:\n",
            "\n",
            "* **Pacote Essencial:** Inclui hospedagem, café da manhã e passeios pelo Delta das Américas. A partir de R$ 500 por pessoa.\n",
            "* **Pacote Deluxe:** Inclui hospedagem em hotel de luxo, café da manhã, passeios pelo Delta das Américas, visitas guiadas ao centro histórico e experiências gastronômicas. A partir de R$ 1.000 por pessoa.\n",
            "\n",
            "**Por que escolher Parnaíba?**\n",
            "\n",
            "* Destino único com belezas naturais incomparáveis\n",
            "* Rica cultura e história\n",
            "* Hospitalidade calorosa e acolhedora\n",
            "* Preços acessíveis\n",
            "* Fácil acesso a partir de outras cidades do Nordeste\n",
            "\n",
            "**Reserve hoje mesmo e embarque em uma aventura inesquecível em Parnaíba, a Pérola do Delta!** \n",
            "\n",
            "\n",
            "Esperando prompt: fim\n"
          ]
        },
        {
          "output_type": "execute_result",
          "data": {
            "text/plain": [
              "<IPython.core.display.Markdown object>"
            ],
            "text/markdown": "> **Propaganda Turística para Parnaíba**\n> \n> **Descubra a Pérola do Delta: Parnaíba**\n> \n> Prepare-se para uma jornada inesquecível em Parnaíba, uma cidade encantadora situada na foz do Rio Parnaíba. Explore as belezas naturais, a rica cultura e a hospitalidade calorosa que esta pérola do nordeste tem a oferecer.\n> \n> * **Praias paradisíacas:** Mergulhe nas águas cristalinas das praias de Atalaia e Ilha Grande, onde as areias brancas e as dunas imponentes criam um cenário de tirar o fôlego.\n> * **Delta das Américas:** Navegue pelo labirinto do Delta das Américas, um ecossistema único de dunas, mangues e canais que abriga uma diversidade de vida selvagem.\n> * **Centro histórico:** Admire a arquitetura colonial no centro histórico de Parnaíba, com seus edifícios coloridos e ruas de paralelepípedos que revelam a história fascinante da cidade.\n> * **Cultura vibrante:** Participe de festivais folclóricos, visite museus e galerias de arte e delicie-se com a gastronomia local em restaurantes charmosos.\n> \n> **Pacotes de Viagem**\n> \n> Descubra Parnaíba com nossos pacotes de viagem exclusivos:\n> \n> * **Pacote Essencial:** Inclui hospedagem, café da manhã e passeios pelo Delta das Américas. A partir de R$ 500 por pessoa.\n> * **Pacote Deluxe:** Inclui hospedagem em hotel de luxo, café da manhã, passeios pelo Delta das Américas, visitas guiadas ao centro histórico e experiências gastronômicas. A partir de R$ 1.000 por pessoa.\n> \n> **Por que escolher Parnaíba?**\n> \n> * Destino único com belezas naturais incomparáveis\n> * Rica cultura e história\n> * Hospitalidade calorosa e acolhedora\n> * Preços acessíveis\n> * Fácil acesso a partir de outras cidades do Nordeste\n> \n> **Reserve hoje mesmo e embarque em uma aventura inesquecível em Parnaíba, a Pérola do Delta!**"
          },
          "metadata": {},
          "execution_count": 22
        }
      ]
    }
  ]
}